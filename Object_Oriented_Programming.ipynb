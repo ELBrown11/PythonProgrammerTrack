{
  "nbformat": 4,
  "nbformat_minor": 0,
  "metadata": {
    "colab": {
      "name": "Object Oriented Programming.ipynb",
      "provenance": [],
      "authorship_tag": "ABX9TyPmhQVnDqEgOquXRVrZfE50",
      "include_colab_link": true
    },
    "kernelspec": {
      "name": "python3",
      "display_name": "Python 3"
    },
    "language_info": {
      "name": "python"
    }
  },
  "cells": [
    {
      "cell_type": "markdown",
      "metadata": {
        "id": "view-in-github",
        "colab_type": "text"
      },
      "source": [
        "<a href=\"https://colab.research.google.com/github/ELBrown11/PythonProgrammerTrack/blob/main/Object_Oriented_Programming.ipynb\" target=\"_parent\"><img src=\"https://colab.research.google.com/assets/colab-badge.svg\" alt=\"Open In Colab\"/></a>"
      ]
    },
    {
      "cell_type": "markdown",
      "source": [
        "## **Chapter 1: OOP Fundamentals**\n",
        "\n",
        "- **procedural programming** = coding in a sequence of step, common for data analysis\n",
        "- when thinking on a larger scale you have to think in terms of patterns of behavior\n",
        "- **object oriented programming** = a collection of objects and patterns interaction \n",
        "  - user interacting with elements of a interface\n",
        "  - useful for designinging frameworks (APIs, GUIs, building tools like pandas DataFrames)\n",
        "    - *API* = application programming interface\n",
        "    - *GUI* - graphical user interface\n",
        "  - makes code more reusable and maintable\n",
        "- fundatmental concepts\n",
        "  - **objects:** data structure incorporating information about state and behavior\n",
        "    - eg. customer object - associated with email and phone number and behavior like placeOrder or cancelOrder \n",
        "    - eg. object for button - can have label and trigger event when pressed\n",
        "  - **classes:** blueprints for object which describe the possible states and behaviors that objects of a certain type could have\n",
        "    - eg. saying that every custoemr will be ablle to place and cancel orders = defining a class\n",
        "      - a way to talk about customers in a unified manner\n",
        "      - a specific customer object = a realization of class with specific state values\n",
        "- distinctive feature of OOP = state and behavior and grouped together, **encapsulation**\n",
        "  - **encapsulation:** bundling data with code operating on it\n",
        "    - a core tenant of OOP\n",
        "- objects in python\n",
        "  - everything in python is an object and every object has a class\n",
        "  - use `type()` to find and objects type\n",
        "  - example\n",
        "   \n",
        "    ```python\n",
        "    import numpy as np\n",
        "    a = np.array([1,2,3,4]}\n",
        "    print(type(a))\n",
        "    ```\n",
        "    \n",
        "    `output: numpy.ndarray`\n",
        "    - this means the class of a numpy array is call ndarray (n-dimensional array)\n",
        "- attributes and methods\n",
        "  - state info in python - contained in attributes\n",
        "  - behavior info in python - contained in method\n",
        "  - thinking about this in terms of previous numpy example...\n",
        "    - state◀--▶attributes \n",
        "      ```python\n",
        "    import numpy as np\n",
        "    a = np.array([1,2,3,4]}\n",
        "    #shape attribute\n",
        "    a.shape\n",
        "    ```\n",
        "    `output: (4,)` -- the shape of the array\n",
        "    - attributes -- represented by variables -- `obj.my_attribute`\n",
        "    - behavior◀--▶methods\n",
        "       ```python\n",
        "    import numpy as np\n",
        "    a = np.array([1,2,3,4]}\n",
        "    #reshape method\n",
        "    a.reshape(2,2)\n",
        "    ```\n",
        "    ```python\n",
        "    output: array([[1,2],\n",
        "                   [3,4]])\n",
        "     ```              \n",
        "      - reshapes an array into a 2 by 2 matrix\n",
        "      - methods -- represented by functions -- `obj.my_method()`\n",
        "\n",
        "- can list all attributes and methods and object has via...\n",
        "\n",
        "  ```python\n",
        "a = np.array([1,2,3,4])\n",
        "dir(a)\n",
        "```\n",
        "\n",
        "  ```python\n",
        "output: ['T',\n",
        "          '__abs__',\n",
        "          ...\n",
        "          'trace',\n",
        "          'transpose',\n",
        "          'var',\n",
        "          'view']\n",
        "```\n",
        "\n",
        "### **Exploring Object Interface**\n",
        "- using help() to show documentation for object or class eg `help(x)` where x is the class/object\n",
        "- examples: there's an object named `mystery` that we want to explore so  we use `help(mystery)` which tells us it is an `Employee` class including **attributes** and **methods**\n",
        "  - this is the output from `help(mystery)`\n",
        "\n",
        "  ![output1gif](https://drive.google.com/uc?export=view&id=1U2YVXzVFFr5nYehPZHfc1dvaydUcWmDw)\n",
        "\n",
        "  - find employees name and salary\n",
        "  ```python\n",
        "# Print the mystery employee's name\n",
        "print(mystery.name)\n",
        "# Print the mystery employee's salary\n",
        "print(mystery.salary)\n",
        "```\n"
      ],
      "metadata": {
        "id": "LtWR_e2wzF_F"
      }
    },
    {
      "cell_type": "markdown",
      "source": [
        "## **Chapter 2: Inheritance and Polymorphism**\n",
        "## **Chapter 3: Integrating with Standard Python**\n",
        "## **Chapter 4: Best Practices of Class Design**"
      ],
      "metadata": {
        "id": "cVHJbv7PBzU2"
      }
    },
    {
      "cell_type": "code",
      "execution_count": null,
      "metadata": {
        "id": "cq75M6vWvt14"
      },
      "outputs": [],
      "source": [
        ""
      ]
    }
  ]
}