{
  "nbformat": 4,
  "nbformat_minor": 0,
  "metadata": {
    "colab": {
      "name": "IntroductiontoDataScienceinPython.ipynb",
      "provenance": [],
      "authorship_tag": "ABX9TyNPwMS49bcgWSoOGo3/IQcx",
      "include_colab_link": true
    },
    "kernelspec": {
      "name": "python3",
      "display_name": "Python 3"
    },
    "language_info": {
      "name": "python"
    }
  },
  "cells": [
    {
      "cell_type": "markdown",
      "metadata": {
        "id": "view-in-github",
        "colab_type": "text"
      },
      "source": [
        "<a href=\"https://colab.research.google.com/github/ELBrown11/PythonProgrammerTrack/blob/main/IntroductiontoDataScienceinPython.ipynb\" target=\"_parent\"><img src=\"https://colab.research.google.com/assets/colab-badge.svg\" alt=\"Open In Colab\"/></a>"
      ]
    },
    {
      "cell_type": "markdown",
      "source": [
        "# **Introduction to Data Science in Python**"
      ],
      "metadata": {
        "id": "gFn8VgiYrgSD"
      }
    },
    {
      "cell_type": "markdown",
      "source": [
        "> For the course the data is related to DataCamp's Golden Retriever that has been kidnapped. Python and Data Science strategies were used to narrow down where the kidnapper is hiding to that we can rescue Bayes."
      ],
      "metadata": {
        "id": "UKp8p4IZiP3C"
      }
    },
    {
      "cell_type": "markdown",
      "source": [
        "## **Chapter 1: Getting Started in Python**\n",
        "- importing libraries correctly\n",
        "  > Libraries are also called packages or modules, either way they're used to group related sets of tools in python. They're used frequently and aliased to be referenced easily in code. \n",
        "\n",
        "  ```python\n",
        "# Use an import statement to import seaborn with alias sns\n",
        "import seaborn as sns\n",
        "```\n",
        "- creating valid variables (floats, strings)\n",
        "> Variables are used to store information for later use and can be created for different data types (floats, ints, string, characters, etc). When creating string variables you can use '' or \"\". If you use single/double quotations within a string you cannot use that same type of quotation on the outside of the string. Also strings have to begin and end with the same type of quotation marks\n",
        "\n",
        "  ```python\n",
        "# Fill in Bayes' age (4.0)\n",
        "bayes_age = 4.0\n",
        "# Display the variable bayes_age\n",
        "print(bayes_age)\n",
        "# Bayes' favorite toy\n",
        "favorite_toy = \"Mr. Squeaky\"\n",
        "# Bayes' owner\n",
        "owner = \"DataCamp\"\n",
        "# Display variables\n",
        "print(favorite_toy)\n",
        "print(owner)\n",
        "```\n",
        "- how to use functions\n",
        "> A function is an action which can input(s) into and output. Names of functions usually indicate what they do.\n",
        "\n",
        "  ```python\n",
        "# Define plate to represent a plate beginning with FRQ\n",
        "# Use * to represent the missing four letters\n",
        "plate = \"FRQ****\"\n",
        "# Call the function lookup_plate()\n",
        "lookup_plate(plate)\n",
        "# Call lookup_plate() with the keyword argument for color\n",
        "lookup_plate(plate, color='Green')\n",
        "```\n",
        "- loading a dataframes\n",
        "\n",
        "```python\n",
        "# Import pandas\n",
        "import pandas as pd\n",
        "# Load the 'ransom.csv' into a DataFrame\n",
        "r = pd.read_csv('ransom.csv')\n",
        "# Display DataFrame\n",
        "print(r)\n",
        "```\n",
        "- to narrow down list of suspects who may have kidnapped Bayes, a whitness saw a green truck at the scene with license plate starting with FRQ at the beginning, this is how to look this up to find who it matches.\n",
        "\n",
        "```python \n",
        "  # Define plate to represent a plate beginning with FRQ\n",
        "# Use * to represent the missing four letters\n",
        "plate = 'FRQ****'\n",
        "# Call the function lookup_plate()\n",
        "lookup_plate(plate)\n",
        "# Call lookup_plate() with the keyword argument for color\n",
        "lookup_plate(plate, color='Green')\n",
        "``` \n",
        "![other](https://drive.google.com/uc?export=view&id=1Lk4kzAd6PmMLS9wL75M-gcJAp0cdPMWp)\n",
        "\n"
      ],
      "metadata": {
        "id": "kS5mz8rbiUud"
      }
    },
    {
      "cell_type": "markdown",
      "source": [
        "## **Chapter 2: Loading Data in pandas**\n",
        "- loading and inspecting dataframe\n",
        "\n",
        "```python\n",
        "# Import pandas under the alias pd\n",
        "import pandas as pd\n",
        "# Load the CSV \"credit_records.csv\"\n",
        "credit_records = pd.read_csv('credit_records.csv')\n",
        "# Display the first five rows of credit_records using the .head() method\n",
        "print(credit_records.head())\n",
        "```\n",
        "![dataframe](https://drive.google.com/uc?export=view&id=1ai59PSPohnak6Qvg_KxYEDQKgUN1n5a7)\n",
        "\n",
        "\n",
        "```python\n",
        "# Use .info() to inspect the DataFrame credit_records\n",
        "print(credit_records.info())\n",
        "```\n",
        "![info1](https://drive.google.com/uc?export=view&id=1Zs-CNm_1FwXoOfzH3eUFtsdNOzSut3zB)\n",
        "\n",
        "- selecting columns of a dataframe (string notation v dot notation)\n",
        "\n",
        "```python\n",
        "# Select the column item from credit_records\n",
        "# Use brackets and string notation\n",
        "items = credit_records['item']\n",
        "# Display the results\n",
        "print(items)\n",
        "```\n",
        " OR \n",
        "```python\n",
        "# Select the column item from credit_records\n",
        "# Use dot notation\n",
        "items = credit_records.item\n",
        "\n",
        "# Display the results\n",
        "print(items)\n",
        "``` \n",
        "![itemsColumn](https://drive.google.com/uc?export=view&id=1laLQl3EDqWEeIWSwlq7n_xSOFCRRz37v)\n",
        "\n",
        "\n",
        "- logical testing (and using it to select specific rows)\n",
        "\n",
        "```python\n",
        "# Select the dogs where Age is greater than 2\n",
        "greater_than_2 = mpr[mpr.Age > 2]\n",
        "print(greater_than_2)\n",
        "print('\\n')\n",
        "# Select the dogs whose Status is equal to Still Missing\n",
        "still_missing = mpr[mpr['Status'] == 'Still Missing']\n",
        "print(still_missing)\n",
        "print('\\n')\n",
        "# Select all dogs whose Dog Breed is not equal to Poodle\n",
        "not_poodle = mpr[mpr['Dog Breed'] != 'Poodle']\n",
        "print(not_poodle)\n",
        "```\n",
        "![dataframes2](https://drive.google.com/uc?export=view&id=1UZKK8mN6xsAbJlMplHtZOmSaJfMZF_iQ)\n",
        "\n",
        "- in the previous chapter we found people with cars and license plates that matched the witness's description, using credt records to check if they recently purchased dog treats we can narrow down ths list even further\n",
        "\n",
        "```python\n",
        "# Select purchases from 'Pet Paradise'\n",
        "purchase = credit_records[credit_records.location == 'Pet Paradise']\n",
        "# Display\n",
        "print(purchase)\n",
        "```\n",
        "![dataframes3](https://drive.google.com/uc?export=view&id=18UdTQ-yBSGsnZfyV_d824KAfIwPgP5jy)\n",
        "  - we see that Fred Frequentist and Gertrude Cox are the two suspects that fit this purchase description\n"
      ],
      "metadata": {
        "id": "xq3Yj5uvhTGr"
      }
    },
    {
      "cell_type": "markdown",
      "source": [
        "\n",
        "## **Chapter 3: Plotting Data with Matplotlib**\n"
      ],
      "metadata": {
        "id": "1vOVGoISi3fe"
      }
    },
    {
      "cell_type": "code",
      "source": [
        "# Import pandas under the alias pd\n",
        "import pandas as pd\n",
        "\n",
        "# Load the CSV \"credit_records.csv\"\n",
        "credit_records = pd.read_csv('credit_records.csv')\n",
        "\n",
        "# Display the first five rows of credit_records using the .head() method\n",
        "print(credit_records.head())"
      ],
      "metadata": {
        "id": "Danj-DBhi4c6"
      },
      "execution_count": null,
      "outputs": []
    },
    {
      "cell_type": "markdown",
      "source": [
        "## **Chapter 4: Different Types of Plots**"
      ],
      "metadata": {
        "id": "jy41ccCNj6sU"
      }
    },
    {
      "cell_type": "markdown",
      "source": [
        "```python\n",
        "#stacked bar chart\n",
        "plt.bar(df.precint, df.dog,\n",
        "                    label='Dog')\n",
        "\n",
        "plt.bar(df.precint, df.cat,\n",
        "                    bottom=df.dog,\n",
        "                    label='Cat')\n",
        "plt.legend()\n",
        "plt.show()\n",
        "```"
      ],
      "metadata": {
        "id": "MoMI77aLtlt8"
      }
    },
    {
      "cell_type": "code",
      "source": [
        ""
      ],
      "metadata": {
        "id": "Q0Tiu1iTj7V4"
      },
      "execution_count": null,
      "outputs": []
    }
  ]
}